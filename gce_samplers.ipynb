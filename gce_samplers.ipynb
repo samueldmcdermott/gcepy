{
 "cells": [
  {
   "cell_type": "code",
   "execution_count": 1,
   "id": "9e73d37e",
   "metadata": {
    "scrolled": true
   },
   "outputs": [],
   "source": [
    "%matplotlib inline\n",
    "from matplotlib import pyplot as plt"
   ]
  },
  {
   "cell_type": "markdown",
   "id": "ba247cb2",
   "metadata": {},
   "source": [
    "first, I load the .py file that contains the definition of the log likelihood (you need to make sure that you have the data in order to run this). Then I'll load two samplers, which operate in similar but meaningfully different ways (both of which I'll use in this notebook). Finally, I'll load the just-in-time compilation feature of jax, which is very useful (it's used many times in gce_highdim_model) and jax.numpy and numpy in case I need them"
   ]
  },
  {
   "cell_type": "code",
   "execution_count": 2,
   "id": "a83faebe",
   "metadata": {
    "scrolled": true
   },
   "outputs": [],
   "source": [
    "import gce_lowdim_model as gm\n",
    "\n",
    "import dynesty as dn\n",
    "import numpyro as nr\n",
    "\n",
    "from jax import jit\n",
    "from jax import numpy as jnp\n",
    "import numpy as np"
   ]
  },
  {
   "cell_type": "markdown",
   "id": "2daa3465",
   "metadata": {},
   "source": [
    "be aware that jax has strong feelings about randomness -- for more of an explanation, see https://jax.readthedocs.io/en/latest/notebooks/Common_Gotchas_in_JAX.html#random-numbers"
   ]
  },
  {
   "cell_type": "code",
   "execution_count": 3,
   "id": "1f9bff58",
   "metadata": {},
   "outputs": [],
   "source": [
    "import jax.random as jr\n",
    "rng_key = jr.PRNGKey(0)"
   ]
  },
  {
   "cell_type": "markdown",
   "id": "9adef6c7",
   "metadata": {},
   "source": [
    "here is an example of how to use random number generation in practice"
   ]
  },
  {
   "cell_type": "code",
   "execution_count": 4,
   "id": "42a0dddb",
   "metadata": {
    "scrolled": true
   },
   "outputs": [
    {
     "data": {
      "text/plain": [
       "DeviceArray(-2.2230745e+10, dtype=float32)"
      ]
     },
     "execution_count": 4,
     "metadata": {},
     "output_type": "execute_result"
    }
   ],
   "source": [
    "gm.jjlnprob(jr.uniform(rng_key,(5,))*(gm.pmax[:5]-gm.pmin[:5])+gm.pmin[:5], bin_no=5, ex_num=1)"
   ]
  },
  {
   "cell_type": "markdown",
   "id": "6f715836",
   "metadata": {},
   "source": [
    "you ought to run \"split\" every time you want a new random number from the same distribution: note that the first two are identical, because we reused the key"
   ]
  },
  {
   "cell_type": "code",
   "execution_count": 5,
   "id": "f5493827",
   "metadata": {},
   "outputs": [
    {
     "data": {
      "text/plain": [
       "(DeviceArray(-1.447981e+12, dtype=float32),\n",
       " DeviceArray(-1.447981e+12, dtype=float32),\n",
       " DeviceArray(-636932.1, dtype=float32))"
      ]
     },
     "execution_count": 5,
     "metadata": {},
     "output_type": "execute_result"
    }
   ],
   "source": [
    "rng_key, rng_key_ = jr.split(rng_key)\n",
    "\n",
    "gm.jjlnprob(jr.uniform(rng_key,(5,))*(gm.pmax[:5]-gm.pmin[:5])+gm.pmin[:5], bin_no=5, ex_num=1),\\\n",
    "gm.jjlnprob(jr.uniform(rng_key,(5,))*(gm.pmax[:5]-gm.pmin[:5])+gm.pmin[:5], bin_no=5, ex_num=1),\\\n",
    "gm.jjlnprob(jr.uniform(rng_key_,(5,))*(gm.pmax[:5]-gm.pmin[:5])+gm.pmin[:5], bin_no=5, ex_num=1)"
   ]
  },
  {
   "cell_type": "code",
   "execution_count": 6,
   "id": "acbeecba",
   "metadata": {},
   "outputs": [],
   "source": [
    "rng_key = jr.PRNGKey(0) #\"resetting\" this for later"
   ]
  },
  {
   "cell_type": "markdown",
   "id": "6e25b041",
   "metadata": {},
   "source": [
    "# nested sampling with dynesty\n",
    "\n",
    "First, I'll demonstrate the usage of dynesty in this context\n",
    "\n",
    "It's natural to run dynesty first, since dynesty doesn't need initial values (this is because dynesty's goal is to explore the entire posterior space, including regions that may seem to be low probability)"
   ]
  },
  {
   "cell_type": "markdown",
   "id": "9d39d0ba",
   "metadata": {},
   "source": [
    "first of all, we have to define a \"prior transform.\" This function is necessary because dynesty always samples from the unit cube, and it needs a way to move transform these samples to the parameters of interest"
   ]
  },
  {
   "cell_type": "code",
   "execution_count": 7,
   "id": "817b1022",
   "metadata": {},
   "outputs": [],
   "source": [
    "def ptform(x, dim):\n",
    "    return x*(gm.pmax[:dim]-gm.pmin[:dim])+gm.pmin[:dim]\n",
    "jptform = jit(ptform, static_argnums=(1,))"
   ]
  },
  {
   "cell_type": "markdown",
   "id": "f4731282",
   "metadata": {},
   "source": [
    "specifying some model hyperparameters: in this notebook, we'll find the posteriors for energy bin Python-indexed-5, regarding model excess 1 (DM), which has 5 parameters"
   ]
  },
  {
   "cell_type": "code",
   "execution_count": 8,
   "id": "96c283b4",
   "metadata": {},
   "outputs": [],
   "source": [
    "EBIN, EXNUM, PDIM = 5, 1, 5"
   ]
  },
  {
   "cell_type": "markdown",
   "id": "b6ebabf5",
   "metadata": {},
   "source": [
    "first we create the sampler; this requires two callables and a declaration of the parameter space dimension. The two callables are the likelihood and the transform from the unit cube\n",
    "\n",
    "then we run the sampler. The most meaningful hyperparameter is dlogz, which is a stopping criterion and roughly sets an error bar on the precision of the evidence and on the likelihood. I'm doing dlogz=10 here, but we used dlogz=1 for our paper"
   ]
  },
  {
   "cell_type": "code",
   "execution_count": 9,
   "id": "5acb64b4",
   "metadata": {
    "scrolled": true
   },
   "outputs": [
    {
     "name": "stderr",
     "output_type": "stream",
     "text": [
      "9531it [02:28, 64.15it/s, +500 | bound: 152 | nc: 1 | ncall: 138699 | eff(%):  7.258 | loglstar:   -inf < -194152.438 <    inf | logz: -194175.475 +/-  8.162 | dlogz:  0.103 > 10.000]\n"
     ]
    }
   ],
   "source": [
    "sampler_dn = dn.NestedSampler(lambda x: gm.jjlnlike(x, EBIN, ex_num=EXNUM), lambda x: jptform(x, PDIM), PDIM)\n",
    "\n",
    "sampler_dn.run_nested(dlogz=10)"
   ]
  },
  {
   "cell_type": "markdown",
   "id": "b4f98853",
   "metadata": {},
   "source": [
    "the posterior is described in {sampler name}.results\n",
    "\n",
    "{sampler name}.results.summary() gives the hyperparameters from the run"
   ]
  },
  {
   "cell_type": "code",
   "execution_count": 10,
   "id": "ab930cc2",
   "metadata": {},
   "outputs": [
    {
     "name": "stdout",
     "output_type": "stream",
     "text": [
      "Summary\n",
      "=======\n",
      "nlive: 500\n",
      "niter: 9531\n",
      "ncall: 138199\n",
      "eff(%):  7.258\n",
      "logz: -194175.474 +/-  1.859\n"
     ]
    }
   ],
   "source": [
    "sampler_dn.results.summary()"
   ]
  },
  {
   "cell_type": "markdown",
   "id": "a8af00ff",
   "metadata": {},
   "source": [
    "# NUTS implementation of HMC in numpyro\n",
    "\n",
    "Now I'll run the No-U-Turn Sampler version of Hamiltonian Monte Carlo using numpyro.\n",
    "\n",
    "This example does not harness the full, abstract strength of numpyro as a general probabilistic programming language. Instead, I'm just using the NUTS HMC by telling the sampler that the potential energy is equal to the negative log probability.\n",
    "\n",
    "Note that I'm using gm.jjlnprob here and I used gm.jjlnlike above -- this is because dynesty samples from a bounded space (the unit cube) whereas numpyro samples from the unconstrained space, so we have to put priors in by hand, and gm.jjlnprob in my code is simply equal to gm.jjlnlike plus a penalty for violating the priors."
   ]
  },
  {
   "cell_type": "markdown",
   "id": "61dc4acf",
   "metadata": {},
   "source": [
    "again, first we create the sampler; this requires one callable and a specification of some hyperparameters. I'm choosing a small number of warmup steps because I believe our initial point will be a good point. (If you simply wanted to skip running dynesty, you could instead specify more warmup steps.)\n",
    "\n",
    "then we run the sampler. I'm initializing this run from the final state of the dynesty run, but you could start from anywhere you like.\n",
    "\n",
    "Note that numpyro explicitly requires the random key (mentioned above)"
   ]
  },
  {
   "cell_type": "code",
   "execution_count": 11,
   "id": "5b490a53",
   "metadata": {},
   "outputs": [
    {
     "name": "stderr",
     "output_type": "stream",
     "text": [
      "sample: 100%|███████████████████████████████████████████████████████████████████████████████████████████████████████████████████████████████████████████████████████████████████████████████████████████████████| 10100/10100 [01:12<00:00, 139.82it/s, 7 steps of size 9.45e-02. acc. prob=0.91]\n"
     ]
    }
   ],
   "source": [
    "sampler_nr = nr.infer.MCMC(nr.infer.NUTS(potential_fn = lambda t: -gm.jjlnprob(t, bin_no=EBIN, ex_num=EXNUM)),\n",
    "                           num_samples=10000, num_warmup=100, jit_model_args=True, chain_method='vectorized')\n",
    "\n",
    "sampler_nr.run(rng_key, init_params = sampler_dn.results.samples[-1])"
   ]
  },
  {
   "cell_type": "markdown",
   "id": "754b9a43",
   "metadata": {},
   "source": [
    "numpyro does not default to keeping all samples.\n",
    "Instead, only the final point is kept readily accessible, which is fine because HMC is reversible.\n",
    "So we must call {sampler name}.get_samples() first before we can assess the properties of the posterior.\n",
    "This is relevant because NUTS is not monotonically decreasing in potential energy.\n",
    "So it's possible (even likely) that the final state will not be the maximum likelihood point."
   ]
  },
  {
   "cell_type": "code",
   "execution_count": 12,
   "id": "b4201e56",
   "metadata": {},
   "outputs": [],
   "source": [
    "samples_nr = sampler_nr.get_samples()"
   ]
  },
  {
   "cell_type": "markdown",
   "id": "423434d4",
   "metadata": {},
   "source": [
    "Then we have to evaluate the likelihood at every sample"
   ]
  },
  {
   "cell_type": "code",
   "execution_count": 13,
   "id": "839be3dd",
   "metadata": {},
   "outputs": [],
   "source": [
    "lls_nr = jnp.array([gm.jjlnprob(x, bin_no=EBIN, ex_num=EXNUM) for x in samples_nr])"
   ]
  },
  {
   "cell_type": "markdown",
   "id": "5c3e25c7",
   "metadata": {},
   "source": [
    "Now let's compare"
   ]
  },
  {
   "cell_type": "code",
   "execution_count": 14,
   "id": "8128da9b",
   "metadata": {},
   "outputs": [
    {
     "data": {
      "text/plain": [
       "(-194152.44, -194151.875, -194154.28125, 6590)"
      ]
     },
     "execution_count": 14,
     "metadata": {},
     "output_type": "execute_result"
    }
   ],
   "source": [
    "sampler_dn.results.logl[-1], float(lls_nr.max()), float(-sampler_nr.last_state.potential_energy), int(lls_nr.argmax())"
   ]
  },
  {
   "cell_type": "markdown",
   "id": "272d0921",
   "metadata": {},
   "source": [
    "the sampler found a point that was better than its final point by a Delta log likelihood of about 1 (and better than the nested sampler by about 3)"
   ]
  },
  {
   "cell_type": "markdown",
   "id": "e638715a",
   "metadata": {},
   "source": [
    "# a plot\n",
    "\n",
    "Because we don't want to do all 14 energy bins for all 6 models of interest in this ipynb, we won't make spectrum plots here (though the examples shown here are perfectly parallelizable, so any multi-core cluster you have access to will do a good job with these code snippets with minimal changes).\n",
    "\n",
    "Instead, I'll make the corner plots."
   ]
  },
  {
   "cell_type": "code",
   "execution_count": 15,
   "id": "d0052b85",
   "metadata": {},
   "outputs": [],
   "source": [
    "import pygtc"
   ]
  },
  {
   "cell_type": "code",
   "execution_count": 17,
   "id": "78a50df2",
   "metadata": {},
   "outputs": [],
   "source": [
    "names=['pi+brem', 'ICS', 'bub', 'iso', 'DM']"
   ]
  },
  {
   "cell_type": "markdown",
   "id": "ff5385a9",
   "metadata": {},
   "source": [
    "the numpyro results automatically drop the \"warmup\" steps, but the dynesty results have some \"burn-in\" phase that we don't want to plot -- you can set this however you like. I'm (semi-arbitrarily) dropping the first third of the samples.\n",
    "\n",
    "Note that nested sampling requires that we specify weights because its samples do not form a histogram proportional to the posterior (HMC does not require weights because it does have this feature)"
   ]
  },
  {
   "cell_type": "code",
   "execution_count": 18,
   "id": "4d184fbf",
   "metadata": {},
   "outputs": [
    {
     "name": "stderr",
     "output_type": "stream",
     "text": [
      "/Users/sammcd00/mambaforge/envs/py3/lib/python3.10/site-packages/pygtc/pygtc.py:1261: UserWarning: No contour levels were found within the data range.\n",
      "  ax.contour(plotData[nChains-1-k],\n"
     ]
    },
    {
     "data": {
      "image/png": "[encoded data removed]",
      "text/plain": [
       "<Figure size 350x350 with 16 Axes>"
      ]
     },
     "metadata": {},
     "output_type": "display_data"
    }
   ],
   "source": [
    "burn_in = sampler_dn.results.niter//3\n",
    "pygtc.plotGTC(chains = [sampler_dn.results.samples[burn_in:], samples_nr],\n",
    "              weights = [jnp.exp(sampler_dn.results.logl[burn_in:] - sampler_dn.results.logl.max()),\n",
    "                         jnp.ones(len(samples_nr))],\n",
    "              chainLabels = ['nested sampling', 'NUTS/HMC'],\n",
    "              paramNames = names, #paramRanges = [list(x) for x in bounds[:-1]],\n",
    "             )\n",
    "plt.show()"
   ]
  },
  {
   "cell_type": "markdown",
   "id": "d5406993",
   "metadata": {},
   "source": [
    "the nested sampler results are broader, as expected"
   ]
  },
  {
   "cell_type": "code",
   "execution_count": null,
   "id": "04b82883",
   "metadata": {},
   "outputs": [],
   "source": []
  }
 ],
 "metadata": {
  "kernelspec": {
   "display_name": "Python 3 (ipykernel)",
   "language": "python",
   "name": "python3"
  },
  "language_info": {
   "codemirror_mode": {
    "name": "ipython",
    "version": 3
   },
   "file_extension": ".py",
   "mimetype": "text/x-python",
   "name": "python",
   "nbconvert_exporter": "python",
   "pygments_lexer": "ipython3",
   "version": "3.10.5"
  }
 },
 "nbformat": 4,
 "nbformat_minor": 5
}
